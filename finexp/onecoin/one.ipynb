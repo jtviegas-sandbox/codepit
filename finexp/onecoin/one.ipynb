{
 "cells": [
  {
   "cell_type": "markdown",
   "source": [
    "# Python learning"
   ],
   "metadata": {
    "collapsed": false
   }
  },
  {
   "cell_type": "markdown",
   "source": [
    "## data types and structures\n",
    "\n",
    "* int         Integer value           Natural numbers\n",
    "* float       Floating-point number   Real numbers\n",
    "* bool        Boolean value           Something true or false\n",
    "* str         String object           Character, word, text\n",
    "* tuple       Immutable container     Fixed set of objects, record\n",
    "* list        Mutable container       Changing set of objects\n",
    "* dict        Mutable container       Key-value store\n",
    "* set         Mutable container       Collection of unique objects\n"
   ],
   "metadata": {
    "collapsed": false,
    "pycharm": {
     "name": "#%% md\n"
    }
   }
  }
 ],
 "metadata": {
  "kernelspec": {
   "display_name": "Python 3",
   "language": "python",
   "name": "python3"
  },
  "language_info": {
   "codemirror_mode": {
    "name": "ipython",
    "version": 2
   },
   "file_extension": ".py",
   "mimetype": "text/x-python",
   "name": "python",
   "nbconvert_exporter": "python",
   "pygments_lexer": "ipython2",
   "version": "2.7.6"
  },
  "pycharm": {
   "stem_cell": {
    "cell_type": "raw",
    "source": [],
    "metadata": {
     "collapsed": false
    }
   }
  }
 },
 "nbformat": 4,
 "nbformat_minor": 0
}