{
 "cells": [
  {
   "cell_type": "markdown",
   "metadata": {
    "collapsed": true,
    "pycharm": {
     "name": "#%% md\n"
    }
   },
   "source": [
    "# Python learning"
   ]
  },
  {
   "cell_type": "markdown",
   "source": [
    "## data types and structures\n",
    "\n",
    "* int         Integer value           Natural numbers\n",
    "* float       Floating-point number   Real numbers\n",
    "* bool        Boolean value           Something true or false\n",
    "* str         String object           Character, word, text\n",
    "* tuple       Immutable container     Fixed set of objects, record\n",
    "* list        Mutable container       Changing set of objects\n",
    "* dict        Mutable container       Key-value store\n",
    "* set         Mutable container       Collection of unique objects\n"
   ],
   "metadata": {
    "collapsed": false
   }
  },
  {
   "cell_type": "code",
   "execution_count": 4,
   "outputs": [
    {
     "name": "stdout",
     "text": [
      "<class 'int'>\n4\n"
     ],
     "output_type": "stream"
    }
   ],
   "source": [
    "a = 10\n",
    "print(type(a))\n",
    "\n",
    "print(a.bit_length())"
   ],
   "metadata": {
    "collapsed": false,
    "pycharm": {
     "name": "#%%\n",
     "is_executing": false
    }
   }
  },
  {
   "cell_type": "markdown",
   "source": [
    "A specialty of Python is that integers can be arbitrarily large.\n",
    "Python integers can be arbitrarily large. The interpreter simply uses as many bits/bytes as needed to represent the numbers."
   ],
   "metadata": {
    "collapsed": false
   }
  },
  {
   "cell_type": "code",
   "execution_count": 5,
   "outputs": [
    {
     "name": "stdout",
     "text": [
      "10000000000000000000000000000000000000000000000000000000000000000000000000000000000000000000000000000\n"
     ],
     "output_type": "stream"
    }
   ],
   "source": [
    "googol = 10 ** 100\n",
    "print(googol)\n",
    "\n"
   ],
   "metadata": {
    "collapsed": false,
    "pycharm": {
     "name": "#%%\n",
     "is_executing": false
    }
   }
  }
 ],
 "metadata": {
  "language_info": {
   "codemirror_mode": {
    "name": "ipython",
    "version": 2
   },
   "file_extension": ".py",
   "mimetype": "text/x-python",
   "name": "python",
   "nbconvert_exporter": "python",
   "pygments_lexer": "ipython2",
   "version": "2.7.6"
  },
  "pycharm": {
   "stem_cell": {
    "cell_type": "raw",
    "source": [],
    "metadata": {
     "collapsed": false
    }
   }
  },
  "kernelspec": {
   "name": "python3",
   "language": "python",
   "display_name": "Python 3"
  }
 },
 "nbformat": 4,
 "nbformat_minor": 0
}