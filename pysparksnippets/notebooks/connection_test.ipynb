{
 "cells": [
  {
   "cell_type": "code",
   "execution_count": 10,
   "metadata": {
    "collapsed": true
   },
   "outputs": [],
   "source": [
    "# test"
   ]
  },
  {
   "cell_type": "code",
   "execution_count": 15,
   "outputs": [
    {
     "name": "stdout",
     "output_type": "stream",
     "text": [
      "[FileInfo(path='dbfs:/FileStore/', name='FileStore/', size=0), FileInfo(path='dbfs:/atlas/', name='atlas/', size=0), FileInfo(path='dbfs:/configs/', name='configs/', size=0), FileInfo(path='dbfs:/databricks/', name='databricks/', size=0), FileInfo(path='dbfs:/databricks-datasets/', name='databricks-datasets/', size=0), FileInfo(path='dbfs:/databricks-results/', name='databricks-results/', size=0), FileInfo(path='dbfs:/dbfs/', name='dbfs/', size=0), FileInfo(path='dbfs:/indicators_subset.csv/', name='indicators_subset.csv/', size=0), FileInfo(path='dbfs:/local_disk0/', name='local_disk0/', size=0), FileInfo(path='dbfs:/ml/', name='ml/', size=0), FileInfo(path='dbfs:/mnt/', name='mnt/', size=0), FileInfo(path='dbfs:/python-wheels/', name='python-wheels/', size=0), FileInfo(path='dbfs:/test/', name='test/', size=0), FileInfo(path='dbfs:/tmp/', name='tmp/', size=0), FileInfo(path='dbfs:/user/', name='user/', size=0)]\n",
      "[SecretScope(name='pj-b2c-ew-kv-dev'), SecretScope(name='pj-ddp-use2-kv-dev'), SecretScope(name='test')]\n"
     ]
    }
   ],
   "source": [
    "from pyspark.sql import SparkSession\n",
    "\n",
    "\n",
    "def get_dbutils(spark):\n",
    "  if spark.conf.get(\"spark.databricks.service.client.enabled\") == \"true\":\n",
    "    from pyspark.dbutils import DBUtils\n",
    "    return DBUtils(spark.sparkContext)\n",
    "  else:\n",
    "    import IPython\n",
    "    return IPython.get_ipython().user_ns[\"dbutils\"]\n",
    "\n",
    "spark = SparkSession.builder.getOrCreate()\n",
    "#spark.read.table(\"adl_prod.consumer\").limit(10).show()\n",
    "\n",
    "dbutils = get_dbutils(spark)\n",
    "print(dbutils.fs.ls(\"dbfs:/\"))\n",
    "print(dbutils.secrets.listScopes())\n"
   ],
   "metadata": {
    "collapsed": false,
    "pycharm": {
     "name": "#%%\n"
    }
   }
  }
 ],
 "metadata": {
  "kernelspec": {
   "display_name": "Python 3",
   "language": "python",
   "name": "python3"
  },
  "language_info": {
   "codemirror_mode": {
    "name": "ipython",
    "version": 2
   },
   "file_extension": ".py",
   "mimetype": "text/x-python",
   "name": "python",
   "nbconvert_exporter": "python",
   "pygments_lexer": "ipython2",
   "version": "2.7.6"
  }
 },
 "nbformat": 4,
 "nbformat_minor": 0
}